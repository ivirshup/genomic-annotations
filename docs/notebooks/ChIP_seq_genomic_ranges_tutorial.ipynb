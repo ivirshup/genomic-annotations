{
 "cells": [
  {
   "cell_type": "markdown",
   "metadata": {},
   "source": [
    "# ChIP-seq Genomic Range Annotation Tutorial"
   ]
  },
  {
   "cell_type": "code",
   "execution_count": null,
   "metadata": {},
   "outputs": [],
   "source": [
    "# Core scverse libraries\n",
    "import scanpy as sc\n",
    "import anndata as ad\n",
    "import pandas as pd\n",
    "import genomic_features as gf\n",
    "\n",
    "# Data retrieval\n",
    "import pooch\n",
    "import bioframe"
   ]
  },
  {
   "cell_type": "markdown",
   "metadata": {},
   "source": [
    "## Download example data\n",
    "\n",
    "The data used in this tutorial is ChIP-seq IDR ranked peaks with target CTCF, downloaded from ENCODE (accession: ENCFF417KHZ). The data is from CRISPR modified Homo Sapien cell line HCT116 and more information about the dataset can be found on the ENCODE website [here](http://realtyhop.com/property-records/search?q=Tiffany+M+Wilson). Column names are assigned by bioframe using the function read_table() based on the column contents."
   ]
  },
  {
   "cell_type": "code",
   "execution_count": null,
   "metadata": {},
   "outputs": [],
   "source": [
    "ctcf_peak = bioframe.read_table(\n",
    "    \"https://www.encodeproject.org/files/ENCFF417KHZ/@@download/ENCFF417KHZ.bed.gz\",\n",
    "    schema=\"narrowPeak\"\n",
    ")\n",
    "ctcf_peak"
   ]
  },
  {
   "cell_type": "markdown",
   "metadata": {},
   "source": [
    "## Download Ensembl annotations using genomic_features\n",
    "\n",
    "Using the genomic ranges provided in the bed file's chromosome, start, and end columns we can asscribe an ensembl gene id from EnsemblDB to each peak. Read in the correct ensembl annotation version to match to the data."
   ]
  },
  {
   "cell_type": "code",
   "execution_count": null,
   "metadata": {},
   "outputs": [],
   "source": [
    "from bioframe import assembly_info\n",
    "\n",
    "hg38 = assembly_info(\"hg38\")"
   ]
  },
  {
   "cell_type": "code",
   "execution_count": null,
   "metadata": {},
   "outputs": [],
   "source": [
    "ensdb = gf.ensembl.annotation(species=\"Hsapiens\", version=\"108\")\n",
    "genes = ensdb.genes(    \n",
    "    filter=gf.filters.GeneBioTypeFilter(\"protein_coding\")\n",
    ")"
   ]
  },
  {
   "cell_type": "markdown",
   "metadata": {},
   "source": [
    "## Mapping chromosome annotation styles\n",
    "\n",
    "In order to annotate the ranges in the dataframe with gene symbols, ensembl ids, strand direction, etc. the two need to dataframes need to merge. To make this seemless we use the bioframe hg.38.alias_dict() to map the numeric Ensembl chromosome annotation with the \"chr\" notation of the CHIP-Seq dataset and remove any peaks with unmapped chromosome values. This step is optional but makes joining the two dataframes much simpler in the next step."
   ]
  },
  {
   "cell_type": "code",
   "execution_count": null,
   "metadata": {},
   "outputs": [],
   "source": [
    "genes[\"seq_name\"] = genes[\"seq_name\"].map(hg38.alias_dict)\n",
    "genes = genes.dropna(subset=\"seq_name\")\n",
    "genes"
   ]
  },
  {
   "cell_type": "markdown",
   "metadata": {},
   "source": [
    "## Merging genomic ranges to annotate Ensembl ids and gene names\n",
    "\n",
    "When joining the two dataframes we can use the closest function to left join the dataframes based on k nearest gene and return the minimal absolute distance from the peak start region and the sequence start region. The cols1 option passes synonymous column names from the ensembl dataframe to the corresponding ctcf peak columns for matching. Now each peak has an ensembl id, gene name, and distance. Using ignore_downstream() ensures the peaks are upstream from the gene promoter."
   ]
  },
  {
   "cell_type": "code",
   "execution_count": null,
   "metadata": {},
   "outputs": [],
   "source": [
    "out = bioframe.closest(\n",
    "    genes,\n",
    "    ctcf_peak,\n",
    "    cols1=[\"seq_name\", \"gene_seq_start\", \"gene_seq_end\"],\n",
    "    ignore_overlaps=True,\n",
    "    ignore_downstream=True,\n",
    "    k=1,\n",
    ")\n",
    "out[out[\"distance\"] < 2000] #filter for genes 2000kb or closer from promoter region\n",
    "out"
   ]
  },
  {
   "cell_type": "markdown",
   "metadata": {},
   "source": [
    "Conversely, overlap can be used to align each peak instead of closest."
   ]
  },
  {
   "cell_type": "code",
   "execution_count": null,
   "metadata": {
    "scrolled": true
   },
   "outputs": [],
   "source": [
    "ov = bioframe.overlap(\n",
    "    genes,\n",
    "    ctcf_peak,\n",
    "    cols1=[\"seq_name\", \"gene_seq_start\", \"gene_seq_end\"],\n",
    "    how=\"inner\"\n",
    ")\n",
    "\n",
    "ov"
   ]
  }
 ],
 "metadata": {
  "kernelspec": {
   "display_name": "Python 3",
   "language": "python",
   "name": "python3"
  },
  "language_info": {
   "codemirror_mode": {
    "name": "ipython",
    "version": 3
   },
   "file_extension": ".py",
   "mimetype": "text/x-python",
   "name": "python",
   "nbconvert_exporter": "python",
   "pygments_lexer": "ipython3",
   "version": "3.7.6"
  }
 },
 "nbformat": 4,
 "nbformat_minor": 4
}
